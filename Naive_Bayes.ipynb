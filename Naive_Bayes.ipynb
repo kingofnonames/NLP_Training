{
 "cells": [
  {
   "cell_type": "markdown",
   "metadata": {},
   "source": [
    "# NAIVE BAYES"
   ]
  },
  {
   "cell_type": "markdown",
   "metadata": {},
   "source": [
    "$$\\hat{y} = \\arg\\max_{y} P(y) \\prod_{i=1}^{n} P(x_i \\mid y)$$"
   ]
  },
  {
   "cell_type": "markdown",
   "metadata": {},
   "source": [
    "$$P(x_i \\mid y) = \\hat{\\theta_{yi}} = \\dfrac{N_{yi} + \\alpha}{N_{y} + {\\alpha}n}$$"
   ]
  },
  {
   "cell_type": "code",
   "execution_count": 4,
   "metadata": {},
   "outputs": [],
   "source": [
    "import numpy as np\n",
    "from collections import defaultdict\n",
    "import pandas as pd\n",
    "from sklearn.model_selection import train_test_split\n",
    "from sklearn.metrics import accuracy_score\n",
    "from sklearn.model_selection import GridSearchCV\n",
    "from sklearn.feature_extraction.text import ENGLISH_STOP_WORDS"
   ]
  },
  {
   "cell_type": "code",
   "execution_count": 5,
   "metadata": {},
   "outputs": [
    {
     "name": "stdout",
     "output_type": "stream",
     "text": [
      "frozenset({'ever', 'none', 'perhaps', 'is', 'what', 'between', 'thru', 'with', 'only', 'anyway', 'please', 'yet', 'although', 'hasnt', 'them', 'give', 'always', 'etc', 'least', 'would', 'thereafter', 'interest', 'i', 'for', 'against', 'enough', 'done', 'behind', 'though', 'four', 'were', 'yourselves', 'few', 'else', 'call', 'from', 'which', 'whence', 'via', 'within', 'of', 'same', 'themselves', 're', 'sincere', 'us', 'twenty', 'could', 'cant', 'ours', 'why', 'their', 'who', 'mostly', 'itself', 'too', 'everything', 'up', 'across', 'part', 'will', 'before', 'therein', 'made', 'whenever', 'everyone', 'anything', 'her', 'nothing', 'my', 'without', 'hereupon', 'thereupon', 'whereby', 'nor', 'through', 'since', 'also', 'or', 'such', 'besides', 'detail', 'afterwards', 'again', 'whatever', 'both', 'are', 'out', 'at', 'another', 'because', 'they', 'whole', 'beforehand', 'this', 'un', 'anyhow', 'two', 'indeed', 'twelve', 'latter', 'de', 'seemed', 'take', 'onto', 'its', 'mine', 'that', 'describe', 'here', 'been', 'all', 'noone', 'eleven', 'not', 'front', 'along', 'was', 'how', 'alone', 'first', 'myself', 'yourself', 'thereby', 'thence', 'hers', 'several', 'mill', 'yours', 'get', 'together', 'each', 'hundred', 'keep', 'once', 'may', 'ltd', 'namely', 'no', 'now', 'must', 'fifty', 'further', 'whereas', 'cry', 'we', 'you', 'con', 'toward', 'these', 'forty', 'had', 'an', 'amongst', 'otherwise', 'thin', 'under', 'other', 'empty', 'show', 'see', 'bottom', 'eg', 'have', 'often', 'co', 'towards', 'neither', 'while', 'already', 'and', 'down', 'wherein', 'almost', 'due', 'many', 'third', 'thick', 'well', 'then', 'beyond', 'whoever', 'should', 'around', 'fifteen', 'nowhere', 'there', 'amoungst', 'move', 'amount', 'where', 'except', 'couldnt', 'others', 'bill', 'whether', 'herein', 'found', 'becoming', 'sometimes', 'something', 'fill', 'put', 'it', 'even', 'every', 'seems', 'whose', 'beside', 'top', 'whereupon', 'some', 'if', 'after', 'whereafter', 'fire', 'she', 'whither', 'cannot', 'me', 'any', 'inc', 'rather', 'your', 'becomes', 'upon', 'seeming', 'thus', 'six', 'whom', 'hence', 'being', 'elsewhere', 'ten', 'be', 'about', 'more', 'sometime', 'nevertheless', 'into', 'everywhere', 'am', 'less', 'him', 'in', 'per', 'serious', 'he', 'his', 'anyone', 'wherever', 'herself', 'name', 'back', 'nobody', 'so', 'five', 'anywhere', 'can', 'latterly', 'somewhere', 'moreover', 'eight', 'our', 'himself', 'become', 'somehow', 'never', 'full', 'meanwhile', 'sixty', 'but', 'either', 'most', 'a', 'find', 'last', 'someone', 'nine', 'has', 'seem', 'however', 'much', 'above', 'to', 'the', 'those', 'still', 'might', 'when', 'until', 'next', 'do', 'very', 'off', 'as', 'formerly', 'during', 'one', 'throughout', 'below', 'than', 'ourselves', 'own', 'on', 'over', 'system', 'among', 'hereby', 'became', 'hereafter', 'by', 'go', 'therefore', 'ie', 'side', 'former', 'three'})\n"
     ]
    }
   ],
   "source": [
    "print(ENGLISH_STOP_WORDS)"
   ]
  },
  {
   "cell_type": "code",
   "execution_count": 6,
   "metadata": {},
   "outputs": [],
   "source": [
    "class NaiveBayesClassifier:\n",
    "    def __init__ (self, alpha = 1.0):\n",
    "        self.classes = None\n",
    "        self.class_prob = defaultdict(float)\n",
    "        self.feature_prob = defaultdict(lambda : defaultdict(float))\n",
    "        self.vocab = set()\n",
    "        self.stop_words = ENGLISH_STOP_WORDS\n",
    "        self.alpha = alpha\n",
    "    def fit(self, X, y):\n",
    "        class_counts = defaultdict(int)\n",
    "        feature_counts = defaultdict(lambda : defaultdict(int))\n",
    "        total_docs = len(y)\n",
    "        for i in range(total_docs):\n",
    "            label = y[i]\n",
    "            class_counts[label] += 1\n",
    "            split_sentences = (X[i].lower()).split()\n",
    "            for word in split_sentences:\n",
    "                if word not in self.stop_words:\n",
    "                    self.vocab.add(word)\n",
    "                    feature_counts[label][word] += 1\n",
    "        self.classes = class_counts.keys()\n",
    "        for label in class_counts:\n",
    "            self.class_prob[label] = class_counts[label] / total_docs\n",
    "        for label in self.classes:\n",
    "            total_words_in_class = sum(feature_counts[label].values())\n",
    "            for word in self.vocab:\n",
    "                self.feature_prob[label][word] = (feature_counts[label][word] + self.alpha) / (total_words_in_class + self.alpha*len(self.vocab))\n",
    "    def predict(self, X):\n",
    "        predictions = []\n",
    "        for doc in X:\n",
    "            class_scores = {}\n",
    "            split_senteces = (doc.lower()).split()\n",
    "            for label in self.classes:\n",
    "                class_scores[label] = np.log(self.class_prob[label])\n",
    "                for word in split_senteces:\n",
    "                    if word in self.vocab and word not in self.stop_words:\n",
    "                        class_scores[label] += np.log(self.feature_prob[label][word])\n",
    "            predictions.append(max(class_scores, key = class_scores.get))\n",
    "    def score(self, X, y):\n",
    "        predictions = self.predict(X)\n",
    "        accuracy = np.mean(np.array(predictions) == np.array(y))\n",
    "        return accuracy\n",
    "    def get_params(self, deep=True):\n",
    "        return {\"alpha\": self.alpha}\n",
    "    \n",
    "    def set_params(self, **params):\n",
    "        for key, value in params.items():\n",
    "            setattr(self, key, value)\n",
    "        return self"
   ]
  },
  {
   "cell_type": "code",
   "execution_count": null,
   "metadata": {},
   "outputs": [],
   "source": []
  }
 ],
 "metadata": {
  "kernelspec": {
   "display_name": "base",
   "language": "python",
   "name": "python3"
  },
  "language_info": {
   "codemirror_mode": {
    "name": "ipython",
    "version": 3
   },
   "file_extension": ".py",
   "mimetype": "text/x-python",
   "name": "python",
   "nbconvert_exporter": "python",
   "pygments_lexer": "ipython3",
   "version": "3.11.7"
  }
 },
 "nbformat": 4,
 "nbformat_minor": 2
}
